{
  "nbformat": 4,
  "nbformat_minor": 0,
  "metadata": {
    "colab": {
      "provenance": []
    },
    "kernelspec": {
      "name": "python3",
      "display_name": "Python 3"
    },
    "language_info": {
      "name": "python"
    }
  },
  "cells": [
    {
      "cell_type": "code",
      "source": [
        "from google.colab import drive\n",
        "drive.mount('/content/drive')"
      ],
      "metadata": {
        "colab": {
          "base_uri": "https://localhost:8080/"
        },
        "id": "Gt44kZ7JbghI",
        "outputId": "8ea65762-234a-4b2c-d0a3-8f4539246deb"
      },
      "execution_count": null,
      "outputs": [
        {
          "output_type": "stream",
          "name": "stdout",
          "text": [
            "Drive already mounted at /content/drive; to attempt to forcibly remount, call drive.mount(\"/content/drive\", force_remount=True).\n"
          ]
        }
      ]
    },
    {
      "cell_type": "code",
      "source": [
        "file_path = '/content/drive/MyDrive/archive (1)/Genre Classification Dataset/test_data_solution.txt'\n",
        "\n",
        "with open(file_path, 'r') as files:\n",
        "    content = files.read()\n",
        "\n",
        "lines = content.strip().split('\\n')\n",
        "\n",
        "titles = []\n",
        "genres = []\n",
        "descriptions = []\n",
        "\n",
        "for line in lines:\n",
        "    parts = line.split(' ::: ')\n",
        "    if len(parts) == 4:\n",
        "        movie_id, title,genre, description = parts\n",
        "        titles.append(title.strip())\n",
        "        genres.append(genre.strip())\n",
        "        descriptions.append(description.strip())\n",
        "\n",
        "df = pd.DataFrame({\n",
        "    'title': titles,\n",
        "    'genre': genres,\n",
        "    'description': descriptions\n",
        "})\n",
        "\n",
        "print(df)"
      ],
      "metadata": {
        "colab": {
          "base_uri": "https://localhost:8080/"
        },
        "id": "zPZUb2Pz2MXI",
        "outputId": "b2c1dca9-bfc6-497c-d0fd-7b6ff1598ad5"
      },
      "execution_count": null,
      "outputs": [
        {
          "output_type": "stream",
          "name": "stdout",
          "text": [
            "                                title        genre  \\\n",
            "0                Edgar's Lunch (1998)     thriller   \n",
            "1            La guerra de papá (1977)       comedy   \n",
            "2         Off the Beaten Track (2010)  documentary   \n",
            "3              Meu Amigo Hindu (2015)        drama   \n",
            "4                   Er nu zhai (1955)        drama   \n",
            "...                               ...          ...   \n",
            "54195  \"Tales of Light & Dark\" (2013)       horror   \n",
            "54196     Der letzte Mohikaner (1965)      western   \n",
            "54197             Oliver Twink (2007)        adult   \n",
            "54198               Slipstream (1973)        drama   \n",
            "54199       Curitiba Zero Grau (2010)        drama   \n",
            "\n",
            "                                             description  \n",
            "0      L.R. Brane loves his life - his car, his apart...  \n",
            "1      Spain, March 1964: Quico is a very naughty chi...  \n",
            "2      One year in the life of Albin and his family o...  \n",
            "3      His father has died, he hasn't spoken with his...  \n",
            "4      Before he was known internationally as a marti...  \n",
            "...                                                  ...  \n",
            "54195  Covering multiple genres, Tales of Light & Dar...  \n",
            "54196  As Alice and Cora Munro attempt to find their ...  \n",
            "54197  A movie 169 years in the making. Oliver Twist,...  \n",
            "54198  Popular, but mysterious rock D.J Mike Mallard ...  \n",
            "54199  Curitiba is a city in movement, with rhythms a...  \n",
            "\n",
            "[54200 rows x 3 columns]\n"
          ]
        }
      ]
    },
    {
      "cell_type": "code",
      "source": [
        "csv_path = '/content/drive/MyDrive/archive (1)/Genre Classification Dataset/test_data_solution.txt'\n",
        "\n",
        "df.to_csv(csv_path, index=False)\n",
        "df"
      ],
      "metadata": {
        "colab": {
          "base_uri": "https://localhost:8080/",
          "height": 423
        },
        "collapsed": true,
        "id": "np4I00ZSmGZ9",
        "outputId": "6398b671-e494-4990-9ff6-7ccff814ae5a"
      },
      "execution_count": null,
      "outputs": [
        {
          "output_type": "execute_result",
          "data": {
            "text/plain": [
              "                                title        genre  \\\n",
              "0                Edgar's Lunch (1998)     thriller   \n",
              "1            La guerra de papá (1977)       comedy   \n",
              "2         Off the Beaten Track (2010)  documentary   \n",
              "3              Meu Amigo Hindu (2015)        drama   \n",
              "4                   Er nu zhai (1955)        drama   \n",
              "...                               ...          ...   \n",
              "54195  \"Tales of Light & Dark\" (2013)       horror   \n",
              "54196     Der letzte Mohikaner (1965)      western   \n",
              "54197             Oliver Twink (2007)        adult   \n",
              "54198               Slipstream (1973)        drama   \n",
              "54199       Curitiba Zero Grau (2010)        drama   \n",
              "\n",
              "                                             description  \n",
              "0      L.R. Brane loves his life - his car, his apart...  \n",
              "1      Spain, March 1964: Quico is a very naughty chi...  \n",
              "2      One year in the life of Albin and his family o...  \n",
              "3      His father has died, he hasn't spoken with his...  \n",
              "4      Before he was known internationally as a marti...  \n",
              "...                                                  ...  \n",
              "54195  Covering multiple genres, Tales of Light & Dar...  \n",
              "54196  As Alice and Cora Munro attempt to find their ...  \n",
              "54197  A movie 169 years in the making. Oliver Twist,...  \n",
              "54198  Popular, but mysterious rock D.J Mike Mallard ...  \n",
              "54199  Curitiba is a city in movement, with rhythms a...  \n",
              "\n",
              "[54200 rows x 3 columns]"
            ],
            "text/html": [
              "\n",
              "  <div id=\"df-80e68cc7-a04a-4aa8-be0f-b29ccb5ddfff\" class=\"colab-df-container\">\n",
              "    <div>\n",
              "<style scoped>\n",
              "    .dataframe tbody tr th:only-of-type {\n",
              "        vertical-align: middle;\n",
              "    }\n",
              "\n",
              "    .dataframe tbody tr th {\n",
              "        vertical-align: top;\n",
              "    }\n",
              "\n",
              "    .dataframe thead th {\n",
              "        text-align: right;\n",
              "    }\n",
              "</style>\n",
              "<table border=\"1\" class=\"dataframe\">\n",
              "  <thead>\n",
              "    <tr style=\"text-align: right;\">\n",
              "      <th></th>\n",
              "      <th>title</th>\n",
              "      <th>genre</th>\n",
              "      <th>description</th>\n",
              "    </tr>\n",
              "  </thead>\n",
              "  <tbody>\n",
              "    <tr>\n",
              "      <th>0</th>\n",
              "      <td>Edgar's Lunch (1998)</td>\n",
              "      <td>thriller</td>\n",
              "      <td>L.R. Brane loves his life - his car, his apart...</td>\n",
              "    </tr>\n",
              "    <tr>\n",
              "      <th>1</th>\n",
              "      <td>La guerra de papá (1977)</td>\n",
              "      <td>comedy</td>\n",
              "      <td>Spain, March 1964: Quico is a very naughty chi...</td>\n",
              "    </tr>\n",
              "    <tr>\n",
              "      <th>2</th>\n",
              "      <td>Off the Beaten Track (2010)</td>\n",
              "      <td>documentary</td>\n",
              "      <td>One year in the life of Albin and his family o...</td>\n",
              "    </tr>\n",
              "    <tr>\n",
              "      <th>3</th>\n",
              "      <td>Meu Amigo Hindu (2015)</td>\n",
              "      <td>drama</td>\n",
              "      <td>His father has died, he hasn't spoken with his...</td>\n",
              "    </tr>\n",
              "    <tr>\n",
              "      <th>4</th>\n",
              "      <td>Er nu zhai (1955)</td>\n",
              "      <td>drama</td>\n",
              "      <td>Before he was known internationally as a marti...</td>\n",
              "    </tr>\n",
              "    <tr>\n",
              "      <th>...</th>\n",
              "      <td>...</td>\n",
              "      <td>...</td>\n",
              "      <td>...</td>\n",
              "    </tr>\n",
              "    <tr>\n",
              "      <th>54195</th>\n",
              "      <td>\"Tales of Light &amp; Dark\" (2013)</td>\n",
              "      <td>horror</td>\n",
              "      <td>Covering multiple genres, Tales of Light &amp; Dar...</td>\n",
              "    </tr>\n",
              "    <tr>\n",
              "      <th>54196</th>\n",
              "      <td>Der letzte Mohikaner (1965)</td>\n",
              "      <td>western</td>\n",
              "      <td>As Alice and Cora Munro attempt to find their ...</td>\n",
              "    </tr>\n",
              "    <tr>\n",
              "      <th>54197</th>\n",
              "      <td>Oliver Twink (2007)</td>\n",
              "      <td>adult</td>\n",
              "      <td>A movie 169 years in the making. Oliver Twist,...</td>\n",
              "    </tr>\n",
              "    <tr>\n",
              "      <th>54198</th>\n",
              "      <td>Slipstream (1973)</td>\n",
              "      <td>drama</td>\n",
              "      <td>Popular, but mysterious rock D.J Mike Mallard ...</td>\n",
              "    </tr>\n",
              "    <tr>\n",
              "      <th>54199</th>\n",
              "      <td>Curitiba Zero Grau (2010)</td>\n",
              "      <td>drama</td>\n",
              "      <td>Curitiba is a city in movement, with rhythms a...</td>\n",
              "    </tr>\n",
              "  </tbody>\n",
              "</table>\n",
              "<p>54200 rows × 3 columns</p>\n",
              "</div>\n",
              "    <div class=\"colab-df-buttons\">\n",
              "\n",
              "  <div class=\"colab-df-container\">\n",
              "    <button class=\"colab-df-convert\" onclick=\"convertToInteractive('df-80e68cc7-a04a-4aa8-be0f-b29ccb5ddfff')\"\n",
              "            title=\"Convert this dataframe to an interactive table.\"\n",
              "            style=\"display:none;\">\n",
              "\n",
              "  <svg xmlns=\"http://www.w3.org/2000/svg\" height=\"24px\" viewBox=\"0 -960 960 960\">\n",
              "    <path d=\"M120-120v-720h720v720H120Zm60-500h600v-160H180v160Zm220 220h160v-160H400v160Zm0 220h160v-160H400v160ZM180-400h160v-160H180v160Zm440 0h160v-160H620v160ZM180-180h160v-160H180v160Zm440 0h160v-160H620v160Z\"/>\n",
              "  </svg>\n",
              "    </button>\n",
              "\n",
              "  <style>\n",
              "    .colab-df-container {\n",
              "      display:flex;\n",
              "      gap: 12px;\n",
              "    }\n",
              "\n",
              "    .colab-df-convert {\n",
              "      background-color: #E8F0FE;\n",
              "      border: none;\n",
              "      border-radius: 50%;\n",
              "      cursor: pointer;\n",
              "      display: none;\n",
              "      fill: #1967D2;\n",
              "      height: 32px;\n",
              "      padding: 0 0 0 0;\n",
              "      width: 32px;\n",
              "    }\n",
              "\n",
              "    .colab-df-convert:hover {\n",
              "      background-color: #E2EBFA;\n",
              "      box-shadow: 0px 1px 2px rgba(60, 64, 67, 0.3), 0px 1px 3px 1px rgba(60, 64, 67, 0.15);\n",
              "      fill: #174EA6;\n",
              "    }\n",
              "\n",
              "    .colab-df-buttons div {\n",
              "      margin-bottom: 4px;\n",
              "    }\n",
              "\n",
              "    [theme=dark] .colab-df-convert {\n",
              "      background-color: #3B4455;\n",
              "      fill: #D2E3FC;\n",
              "    }\n",
              "\n",
              "    [theme=dark] .colab-df-convert:hover {\n",
              "      background-color: #434B5C;\n",
              "      box-shadow: 0px 1px 3px 1px rgba(0, 0, 0, 0.15);\n",
              "      filter: drop-shadow(0px 1px 2px rgba(0, 0, 0, 0.3));\n",
              "      fill: #FFFFFF;\n",
              "    }\n",
              "  </style>\n",
              "\n",
              "    <script>\n",
              "      const buttonEl =\n",
              "        document.querySelector('#df-80e68cc7-a04a-4aa8-be0f-b29ccb5ddfff button.colab-df-convert');\n",
              "      buttonEl.style.display =\n",
              "        google.colab.kernel.accessAllowed ? 'block' : 'none';\n",
              "\n",
              "      async function convertToInteractive(key) {\n",
              "        const element = document.querySelector('#df-80e68cc7-a04a-4aa8-be0f-b29ccb5ddfff');\n",
              "        const dataTable =\n",
              "          await google.colab.kernel.invokeFunction('convertToInteractive',\n",
              "                                                    [key], {});\n",
              "        if (!dataTable) return;\n",
              "\n",
              "        const docLinkHtml = 'Like what you see? Visit the ' +\n",
              "          '<a target=\"_blank\" href=https://colab.research.google.com/notebooks/data_table.ipynb>data table notebook</a>'\n",
              "          + ' to learn more about interactive tables.';\n",
              "        element.innerHTML = '';\n",
              "        dataTable['output_type'] = 'display_data';\n",
              "        await google.colab.output.renderOutput(dataTable, element);\n",
              "        const docLink = document.createElement('div');\n",
              "        docLink.innerHTML = docLinkHtml;\n",
              "        element.appendChild(docLink);\n",
              "      }\n",
              "    </script>\n",
              "  </div>\n",
              "\n",
              "\n",
              "<div id=\"df-d4200862-2928-4334-a4d7-4af761f43567\">\n",
              "  <button class=\"colab-df-quickchart\" onclick=\"quickchart('df-d4200862-2928-4334-a4d7-4af761f43567')\"\n",
              "            title=\"Suggest charts\"\n",
              "            style=\"display:none;\">\n",
              "\n",
              "<svg xmlns=\"http://www.w3.org/2000/svg\" height=\"24px\"viewBox=\"0 0 24 24\"\n",
              "     width=\"24px\">\n",
              "    <g>\n",
              "        <path d=\"M19 3H5c-1.1 0-2 .9-2 2v14c0 1.1.9 2 2 2h14c1.1 0 2-.9 2-2V5c0-1.1-.9-2-2-2zM9 17H7v-7h2v7zm4 0h-2V7h2v10zm4 0h-2v-4h2v4z\"/>\n",
              "    </g>\n",
              "</svg>\n",
              "  </button>\n",
              "\n",
              "<style>\n",
              "  .colab-df-quickchart {\n",
              "      --bg-color: #E8F0FE;\n",
              "      --fill-color: #1967D2;\n",
              "      --hover-bg-color: #E2EBFA;\n",
              "      --hover-fill-color: #174EA6;\n",
              "      --disabled-fill-color: #AAA;\n",
              "      --disabled-bg-color: #DDD;\n",
              "  }\n",
              "\n",
              "  [theme=dark] .colab-df-quickchart {\n",
              "      --bg-color: #3B4455;\n",
              "      --fill-color: #D2E3FC;\n",
              "      --hover-bg-color: #434B5C;\n",
              "      --hover-fill-color: #FFFFFF;\n",
              "      --disabled-bg-color: #3B4455;\n",
              "      --disabled-fill-color: #666;\n",
              "  }\n",
              "\n",
              "  .colab-df-quickchart {\n",
              "    background-color: var(--bg-color);\n",
              "    border: none;\n",
              "    border-radius: 50%;\n",
              "    cursor: pointer;\n",
              "    display: none;\n",
              "    fill: var(--fill-color);\n",
              "    height: 32px;\n",
              "    padding: 0;\n",
              "    width: 32px;\n",
              "  }\n",
              "\n",
              "  .colab-df-quickchart:hover {\n",
              "    background-color: var(--hover-bg-color);\n",
              "    box-shadow: 0 1px 2px rgba(60, 64, 67, 0.3), 0 1px 3px 1px rgba(60, 64, 67, 0.15);\n",
              "    fill: var(--button-hover-fill-color);\n",
              "  }\n",
              "\n",
              "  .colab-df-quickchart-complete:disabled,\n",
              "  .colab-df-quickchart-complete:disabled:hover {\n",
              "    background-color: var(--disabled-bg-color);\n",
              "    fill: var(--disabled-fill-color);\n",
              "    box-shadow: none;\n",
              "  }\n",
              "\n",
              "  .colab-df-spinner {\n",
              "    border: 2px solid var(--fill-color);\n",
              "    border-color: transparent;\n",
              "    border-bottom-color: var(--fill-color);\n",
              "    animation:\n",
              "      spin 1s steps(1) infinite;\n",
              "  }\n",
              "\n",
              "  @keyframes spin {\n",
              "    0% {\n",
              "      border-color: transparent;\n",
              "      border-bottom-color: var(--fill-color);\n",
              "      border-left-color: var(--fill-color);\n",
              "    }\n",
              "    20% {\n",
              "      border-color: transparent;\n",
              "      border-left-color: var(--fill-color);\n",
              "      border-top-color: var(--fill-color);\n",
              "    }\n",
              "    30% {\n",
              "      border-color: transparent;\n",
              "      border-left-color: var(--fill-color);\n",
              "      border-top-color: var(--fill-color);\n",
              "      border-right-color: var(--fill-color);\n",
              "    }\n",
              "    40% {\n",
              "      border-color: transparent;\n",
              "      border-right-color: var(--fill-color);\n",
              "      border-top-color: var(--fill-color);\n",
              "    }\n",
              "    60% {\n",
              "      border-color: transparent;\n",
              "      border-right-color: var(--fill-color);\n",
              "    }\n",
              "    80% {\n",
              "      border-color: transparent;\n",
              "      border-right-color: var(--fill-color);\n",
              "      border-bottom-color: var(--fill-color);\n",
              "    }\n",
              "    90% {\n",
              "      border-color: transparent;\n",
              "      border-bottom-color: var(--fill-color);\n",
              "    }\n",
              "  }\n",
              "</style>\n",
              "\n",
              "  <script>\n",
              "    async function quickchart(key) {\n",
              "      const quickchartButtonEl =\n",
              "        document.querySelector('#' + key + ' button');\n",
              "      quickchartButtonEl.disabled = true;  // To prevent multiple clicks.\n",
              "      quickchartButtonEl.classList.add('colab-df-spinner');\n",
              "      try {\n",
              "        const charts = await google.colab.kernel.invokeFunction(\n",
              "            'suggestCharts', [key], {});\n",
              "      } catch (error) {\n",
              "        console.error('Error during call to suggestCharts:', error);\n",
              "      }\n",
              "      quickchartButtonEl.classList.remove('colab-df-spinner');\n",
              "      quickchartButtonEl.classList.add('colab-df-quickchart-complete');\n",
              "    }\n",
              "    (() => {\n",
              "      let quickchartButtonEl =\n",
              "        document.querySelector('#df-d4200862-2928-4334-a4d7-4af761f43567 button');\n",
              "      quickchartButtonEl.style.display =\n",
              "        google.colab.kernel.accessAllowed ? 'block' : 'none';\n",
              "    })();\n",
              "  </script>\n",
              "</div>\n",
              "\n",
              "  <div id=\"id_9b1400f7-0a34-4c45-a643-3776df565512\">\n",
              "    <style>\n",
              "      .colab-df-generate {\n",
              "        background-color: #E8F0FE;\n",
              "        border: none;\n",
              "        border-radius: 50%;\n",
              "        cursor: pointer;\n",
              "        display: none;\n",
              "        fill: #1967D2;\n",
              "        height: 32px;\n",
              "        padding: 0 0 0 0;\n",
              "        width: 32px;\n",
              "      }\n",
              "\n",
              "      .colab-df-generate:hover {\n",
              "        background-color: #E2EBFA;\n",
              "        box-shadow: 0px 1px 2px rgba(60, 64, 67, 0.3), 0px 1px 3px 1px rgba(60, 64, 67, 0.15);\n",
              "        fill: #174EA6;\n",
              "      }\n",
              "\n",
              "      [theme=dark] .colab-df-generate {\n",
              "        background-color: #3B4455;\n",
              "        fill: #D2E3FC;\n",
              "      }\n",
              "\n",
              "      [theme=dark] .colab-df-generate:hover {\n",
              "        background-color: #434B5C;\n",
              "        box-shadow: 0px 1px 3px 1px rgba(0, 0, 0, 0.15);\n",
              "        filter: drop-shadow(0px 1px 2px rgba(0, 0, 0, 0.3));\n",
              "        fill: #FFFFFF;\n",
              "      }\n",
              "    </style>\n",
              "    <button class=\"colab-df-generate\" onclick=\"generateWithVariable('df')\"\n",
              "            title=\"Generate code using this dataframe.\"\n",
              "            style=\"display:none;\">\n",
              "\n",
              "  <svg xmlns=\"http://www.w3.org/2000/svg\" height=\"24px\"viewBox=\"0 0 24 24\"\n",
              "       width=\"24px\">\n",
              "    <path d=\"M7,19H8.4L18.45,9,17,7.55,7,17.6ZM5,21V16.75L18.45,3.32a2,2,0,0,1,2.83,0l1.4,1.43a1.91,1.91,0,0,1,.58,1.4,1.91,1.91,0,0,1-.58,1.4L9.25,21ZM18.45,9,17,7.55Zm-12,3A5.31,5.31,0,0,0,4.9,8.1,5.31,5.31,0,0,0,1,6.5,5.31,5.31,0,0,0,4.9,4.9,5.31,5.31,0,0,0,6.5,1,5.31,5.31,0,0,0,8.1,4.9,5.31,5.31,0,0,0,12,6.5,5.46,5.46,0,0,0,6.5,12Z\"/>\n",
              "  </svg>\n",
              "    </button>\n",
              "    <script>\n",
              "      (() => {\n",
              "      const buttonEl =\n",
              "        document.querySelector('#id_9b1400f7-0a34-4c45-a643-3776df565512 button.colab-df-generate');\n",
              "      buttonEl.style.display =\n",
              "        google.colab.kernel.accessAllowed ? 'block' : 'none';\n",
              "\n",
              "      buttonEl.onclick = () => {\n",
              "        google.colab.notebook.generateWithVariable('df');\n",
              "      }\n",
              "      })();\n",
              "    </script>\n",
              "  </div>\n",
              "\n",
              "    </div>\n",
              "  </div>\n"
            ],
            "application/vnd.google.colaboratory.intrinsic+json": {
              "type": "dataframe",
              "variable_name": "df",
              "summary": "{\n  \"name\": \"df\",\n  \"rows\": 54200,\n  \"fields\": [\n    {\n      \"column\": \"title\",\n      \"properties\": {\n        \"dtype\": \"string\",\n        \"num_unique_values\": 54200,\n        \"samples\": [\n          \"Aranyer Din Ratri (1970)\",\n          \"Giorni e nuvole (2007)\",\n          \"Band of Rebels: White Horses of Camargue (2016)\"\n        ],\n        \"semantic_type\": \"\",\n        \"description\": \"\"\n      }\n    },\n    {\n      \"column\": \"genre\",\n      \"properties\": {\n        \"dtype\": \"category\",\n        \"num_unique_values\": 27,\n        \"samples\": [\n          \"sport\",\n          \"adult\",\n          \"romance\"\n        ],\n        \"semantic_type\": \"\",\n        \"description\": \"\"\n      }\n    },\n    {\n      \"column\": \"description\",\n      \"properties\": {\n        \"dtype\": \"string\",\n        \"num_unique_values\": 54072,\n        \"samples\": [\n          \"Professional Bar Instructor and Bar Chef Anthony Caporale's unique approach teaches you the bar from both sides! As a customer in front of the bar, you'll learn the correct way to order drinks, the history of alcoholic beverages, and the differences between each type of liquor. From behind the bar, you'll discover the secrets to mixing drinks just like your favorite bartender, including recipes for today's most popular cocktails. The engaging interactive classroom format lets you watch students ask questions, make drinks, and learn as they learn. Art of the Drink is perfect for anyone seeking to increase their drink knowledge, from the uninitiated businessperson who wants to feel more comfortable hosting dinner to the experienced bartender or server looking to increase their sales! Whether you're a novice or a seasoned professional, sit in on this complete class on DVD and learn more about the Art of the Drink!\",\n          \"I'm Okay is a anti-bullying short film. The story evokes around a young teenage girl Becky (played by Wiktoria Wabnyc) who gets harassed by an older female; Jade (played by Bria Olivia-Salmon) for hanging out with her boyfriend. Our aim is to raise awareness regarding bullying and the importance of letting someone know that you are being bullied. It is necessary not to keep it a secret and seek help. Bullying is a significant factor which contributes to the rate of suicide. It can take place in many different forms i.e verbal or physical...it is often hard to identify it.\",\n          \"A young girl who became frustrated in her desire to become an actress starts to work for a telephone-sex company. There she meets a fascinating man who has an obsession for music related with crime.\"\n        ],\n        \"semantic_type\": \"\",\n        \"description\": \"\"\n      }\n    }\n  ]\n}"
            }
          },
          "metadata": {},
          "execution_count": 49
        }
      ]
    },
    {
      "cell_type": "code",
      "source": [
        "dataset_path = '/content/drive/MyDrive/archive (1)/Genre Classification Dataset/train_data.txt'\n",
        "df.to_csv(dataset_path , index=False)\n",
        "\n",
        "X = df['description']\n",
        "Y = df['genre']\n",
        "\n",
        "print(X.value_counts())\n",
        "print(Y.value_counts())"
      ],
      "metadata": {
        "colab": {
          "base_uri": "https://localhost:8080/"
        },
        "collapsed": true,
        "id": "iixh_zqDmw32",
        "outputId": "478f3bf8-b2c8-4408-a7dd-4ce352fc1a57"
      },
      "execution_count": null,
      "outputs": [
        {
          "output_type": "stream",
          "name": "stdout",
          "text": [
            "description\n",
            "Grammy - music award of the American academy of the audio recording, was founded by the American association of sound-recording companies of March, 14, 1958. Grammy is awarded annually as a result of voting by the authorized members of \"Recording Academy\".                                                                                                                                                                                                                                                                                                                                                                                                                                                                                                                                                                                                                                                                                                                                                                                                                                                                            10\n",
            "A retired professor has returned to his estate to live with his beautiful young wife, Yelena. The estate originally belonged to his first wife, now deceased; her mother and brother still live there and manage the farm. For many years the brother (Uncle Vanya) has sent the farm's proceeds to the professor, while receiving only a small salary himself. Sonya, the professor's daughter, who is about the same age as his new wife, also lives on the estate. The professor is pompous, vain, and irritable. He calls the doctor (Astrov) to treat his gout, only to send him away without seeing him. Astrov is an experienced physician who performs his job conscientiously, but has lost all idealism and spends much of his time drinking. The presence of Yelena introduces a bit of sexual tension into the household. Astrov and Uncle Vanya both fall in love with Yelena; she spurns them both. Meanwhile, Sonya is in love with Astrov, who fails even to notice her. Finally, when the professor announces he wants to sell the estate, Vanya, whose admiration for the man died with his sister, tries to kill him.     9\n",
            "The Pickwick Club sends Mr. Pickwick and a group of friends to travel across England and to report back on the interesting things they find. In the course of their travels, they repeatedly encounter the friendly but disreputable Mr. Jingle, who becomes a continual source of trouble for all who know him. Pickwick himself is the victim of a number of misunderstandings that bring him both embarrassment and problems with the law.                                                                                                                                                                                                                                                                                                                                                                                                                                                                                                                                                                                                                                                                                                7\n",
            "Viola and Sebastian are lookalike twins, separated by a shipwreck. Viola lands in Illyria, where she disguises herself like her brother and goes into the service of the Duke Orsino. Orsino sends her to help him woo the Lady Olivia, who doesn't want the Duke, but finds that she likes the new messenger the Duke's sending. Then, of course, Viola's brother shows up, and merry hell breaks loose. Meanwhile, Olivia's uncle and his cohorts are trying to find some way to get back at Olivia's officious majordomo, Malvolio.                                                                                                                                                                                                                                                                                                                                                                                                                                                                                                                                                                                                       6\n",
            "Award of the American academy of cinematographic arts and sciences, from 1940th known as \"Oscar\", - American film award created in 1929 and traditionally handed to the figures of cinematographic art for their contribution to creation of movies.                                                                                                                                                                                                                                                                                                                                                                                                                                                                                                                                                                                                                                                                                                                                                                                                                                                                                         5\n",
            "                                                                                                                                                                                                                                                                                                                                                                                                                                                                                                                                                                                                                                                                                                                                                                                                                                                                                                                                                                                                                                                                                                                                            ..\n",
            "The day that the Vatican EXPLODED was the dawn of a new era. It was known in the most private circles of the church that Christ had once again returned and that God had beaten the Devil again. The Devil had lost his wager with the almighty and was made to suffer the indignities of that which he hated most: to become a mortal man. The Church knew it was time to make a tactical change. They will abandon the Devil after he has served his purpose. Nothing is what it seems as Devlin avoids one assassination attempt after another. Plagued by strange dreams. Visions of him in conversation with God, and Fallen angels haunt him. With no memories of his former life and no supernatural powers and with no deep abiding faith in anything, God tests the now mortal Devil through trial and tribulation as he proceeds along a path toward redemption.                                                                                                                                                                                                                                                                   1\n",
            "We take kid's movie pitches and turn them into blockbuster trailers. Sophia Wodynsky (5 years old) tells us the story of Officer John Yukon, a San Diego cop who plays by nobody's rules but his own. That is, until he has to face off against his greatest adversary...himself. On the sizzling streets of San Diego, things have never been this hot.                                                                                                                                                                                                                                                                                                                                                                                                                                                                                                                                                                                                                                                                                                                                                                                     1\n",
            "A Native American ex-con finds work as a miner in a town controlled by the vile Driggers family. The miners are treated poorly and those who complain too much get killed. The ex-con decides it's time for a revolt, but first he needs allies.                                                                                                                                                                                                                                                                                                                                                                                                                                                                                                                                                                                                                                                                                                                                                                                                                                                                                             1\n",
            "An impoverished university student is inspired to open a bar specifically for other students as a way of earning some quick cash. He starts making money hand over fist but his lack morals regarding how he makes money soon gets him into some serious trouble.                                                                                                                                                                                                                                                                                                                                                                                                                                                                                                                                                                                                                                                                                                                                                                                                                                                                            1\n",
            "Curitiba is a city in movement, with rhythms and different pulsations, a great composed mosaic for fragments of different colors and sizes, that coexist, however nor always are touched. A city of contrasts, light and darkness, indifference and solidarity, errors and repentances. It's the coldest week on Curitiba's winter. The scenery where faces pass for the windows of the cars and people divide the sidewalk without its looks if cross, that four histories are counted on four men who have their lives transformed when the conscience talk louder than the survival instinct.                                                                                                                                                                                                                                                                                                                                                                                                                                                                                                                                             1\n",
            "Name: count, Length: 54072, dtype: int64\n",
            "genre\n",
            "drama          13612\n",
            "documentary    13096\n",
            "comedy          7446\n",
            "short           5072\n",
            "horror          2204\n",
            "thriller        1590\n",
            "action          1314\n",
            "western         1032\n",
            "reality-tv       883\n",
            "family           783\n",
            "adventure        775\n",
            "music            731\n",
            "romance          672\n",
            "sci-fi           646\n",
            "adult            590\n",
            "crime            505\n",
            "animation        498\n",
            "sport            431\n",
            "talk-show        391\n",
            "fantasy          322\n",
            "mystery          318\n",
            "musical          276\n",
            "biography        264\n",
            "history          243\n",
            "game-show        193\n",
            "news             181\n",
            "war              132\n",
            "Name: count, dtype: int64\n"
          ]
        }
      ]
    },
    {
      "cell_type": "code",
      "source": [
        "Y.value_counts().plot(kind=\"barh\",color='green')"
      ],
      "metadata": {
        "colab": {
          "base_uri": "https://localhost:8080/",
          "height": 447
        },
        "id": "2-TQypdTsSFx",
        "outputId": "94056a4f-0f13-4856-98e3-c45e2558cd15"
      },
      "execution_count": null,
      "outputs": [
        {
          "output_type": "execute_result",
          "data": {
            "text/plain": [
              "<Axes: ylabel='genre'>"
            ]
          },
          "metadata": {},
          "execution_count": 53
        },
        {
          "output_type": "display_data",
          "data": {
            "text/plain": [
              "<Figure size 640x480 with 1 Axes>"
            ],
            "image/png": "[encoded data removed]"
          },
          "metadata": {}
        }
      ]
    },
    {
      "cell_type": "code",
      "source": [
        "len(X),len(Y)"
      ],
      "metadata": {
        "colab": {
          "base_uri": "https://localhost:8080/"
        },
        "id": "00Y63qjNswBC",
        "outputId": "5b38672b-b918-49bd-94b5-b3c75e337dc4"
      },
      "execution_count": null,
      "outputs": [
        {
          "output_type": "execute_result",
          "data": {
            "text/plain": [
              "(54200, 54200)"
            ]
          },
          "metadata": {},
          "execution_count": 54
        }
      ]
    },
    {
      "cell_type": "code",
      "source": [
        "import pandas as pd\n",
        "import numpy as np\n",
        "from sklearn.model_selection import train_test_split\n",
        "from sklearn.feature_extraction.text import TfidfVectorizer\n",
        "from sklearn.svm import SVC\n",
        "from sklearn.metrics import classification_report, accuracy_score"
      ],
      "metadata": {
        "id": "taKJR07DxLcY"
      },
      "execution_count": null,
      "outputs": []
    },
    {
      "cell_type": "code",
      "source": [
        "X_train, X_test, y_train, y_test = train_test_split(X,Y, test_size=0.2, random_state=42)"
      ],
      "metadata": {
        "id": "_q04y9Hbxee4"
      },
      "execution_count": null,
      "outputs": []
    },
    {
      "cell_type": "code",
      "source": [
        "tfidf = TfidfVectorizer(stop_words='english', max_features=5000)\n",
        "X_train_tfidf = tfidf.fit_transform(X_train)\n",
        "X_test_tfidf = tfidf.transform(X_test)"
      ],
      "metadata": {
        "id": "uts3vKNWx-Lw"
      },
      "execution_count": null,
      "outputs": []
    },
    {
      "cell_type": "code",
      "source": [
        "svm = SVC(kernel='linear')\n",
        "svm.fit(X_train_tfidf, y_train)"
      ],
      "metadata": {
        "colab": {
          "base_uri": "https://localhost:8080/",
          "height": 74
        },
        "id": "ba6kL4zPyHDJ",
        "outputId": "3a524b97-f870-4574-820f-8cbe4e7e2133"
      },
      "execution_count": null,
      "outputs": [
        {
          "output_type": "execute_result",
          "data": {
            "text/plain": [
              "SVC(kernel='linear')"
            ],
            "text/html": [
              "<style>#sk-container-id-1 {color: black;background-color: white;}#sk-container-id-1 pre{padding: 0;}#sk-container-id-1 div.sk-toggleable {background-color: white;}#sk-container-id-1 label.sk-toggleable__label {cursor: pointer;display: block;width: 100%;margin-bottom: 0;padding: 0.3em;box-sizing: border-box;text-align: center;}#sk-container-id-1 label.sk-toggleable__label-arrow:before {content: \"▸\";float: left;margin-right: 0.25em;color: #696969;}#sk-container-id-1 label.sk-toggleable__label-arrow:hover:before {color: black;}#sk-container-id-1 div.sk-estimator:hover label.sk-toggleable__label-arrow:before {color: black;}#sk-container-id-1 div.sk-toggleable__content {max-height: 0;max-width: 0;overflow: hidden;text-align: left;background-color: #f0f8ff;}#sk-container-id-1 div.sk-toggleable__content pre {margin: 0.2em;color: black;border-radius: 0.25em;background-color: #f0f8ff;}#sk-container-id-1 input.sk-toggleable__control:checked~div.sk-toggleable__content {max-height: 200px;max-width: 100%;overflow: auto;}#sk-container-id-1 input.sk-toggleable__control:checked~label.sk-toggleable__label-arrow:before {content: \"▾\";}#sk-container-id-1 div.sk-estimator input.sk-toggleable__control:checked~label.sk-toggleable__label {background-color: #d4ebff;}#sk-container-id-1 div.sk-label input.sk-toggleable__control:checked~label.sk-toggleable__label {background-color: #d4ebff;}#sk-container-id-1 input.sk-hidden--visually {border: 0;clip: rect(1px 1px 1px 1px);clip: rect(1px, 1px, 1px, 1px);height: 1px;margin: -1px;overflow: hidden;padding: 0;position: absolute;width: 1px;}#sk-container-id-1 div.sk-estimator {font-family: monospace;background-color: #f0f8ff;border: 1px dotted black;border-radius: 0.25em;box-sizing: border-box;margin-bottom: 0.5em;}#sk-container-id-1 div.sk-estimator:hover {background-color: #d4ebff;}#sk-container-id-1 div.sk-parallel-item::after {content: \"\";width: 100%;border-bottom: 1px solid gray;flex-grow: 1;}#sk-container-id-1 div.sk-label:hover label.sk-toggleable__label {background-color: #d4ebff;}#sk-container-id-1 div.sk-serial::before {content: \"\";position: absolute;border-left: 1px solid gray;box-sizing: border-box;top: 0;bottom: 0;left: 50%;z-index: 0;}#sk-container-id-1 div.sk-serial {display: flex;flex-direction: column;align-items: center;background-color: white;padding-right: 0.2em;padding-left: 0.2em;position: relative;}#sk-container-id-1 div.sk-item {position: relative;z-index: 1;}#sk-container-id-1 div.sk-parallel {display: flex;align-items: stretch;justify-content: center;background-color: white;position: relative;}#sk-container-id-1 div.sk-item::before, #sk-container-id-1 div.sk-parallel-item::before {content: \"\";position: absolute;border-left: 1px solid gray;box-sizing: border-box;top: 0;bottom: 0;left: 50%;z-index: -1;}#sk-container-id-1 div.sk-parallel-item {display: flex;flex-direction: column;z-index: 1;position: relative;background-color: white;}#sk-container-id-1 div.sk-parallel-item:first-child::after {align-self: flex-end;width: 50%;}#sk-container-id-1 div.sk-parallel-item:last-child::after {align-self: flex-start;width: 50%;}#sk-container-id-1 div.sk-parallel-item:only-child::after {width: 0;}#sk-container-id-1 div.sk-dashed-wrapped {border: 1px dashed gray;margin: 0 0.4em 0.5em 0.4em;box-sizing: border-box;padding-bottom: 0.4em;background-color: white;}#sk-container-id-1 div.sk-label label {font-family: monospace;font-weight: bold;display: inline-block;line-height: 1.2em;}#sk-container-id-1 div.sk-label-container {text-align: center;}#sk-container-id-1 div.sk-container {/* jupyter's `normalize.less` sets `[hidden] { display: none; }` but bootstrap.min.css set `[hidden] { display: none !important; }` so we also need the `!important` here to be able to override the default hidden behavior on the sphinx rendered scikit-learn.org. See: https://github.com/scikit-learn/scikit-learn/issues/21755 */display: inline-block !important;position: relative;}#sk-container-id-1 div.sk-text-repr-fallback {display: none;}</style><div id=\"sk-container-id-1\" class=\"sk-top-container\"><div class=\"sk-text-repr-fallback\"><pre>SVC(kernel=&#x27;linear&#x27;)</pre><b>In a Jupyter environment, please rerun this cell to show the HTML representation or trust the notebook. <br />On GitHub, the HTML representation is unable to render, please try loading this page with nbviewer.org.</b></div><div class=\"sk-container\" hidden><div class=\"sk-item\"><div class=\"sk-estimator sk-toggleable\"><input class=\"sk-toggleable__control sk-hidden--visually\" id=\"sk-estimator-id-1\" type=\"checkbox\" checked><label for=\"sk-estimator-id-1\" class=\"sk-toggleable__label sk-toggleable__label-arrow\">SVC</label><div class=\"sk-toggleable__content\"><pre>SVC(kernel=&#x27;linear&#x27;)</pre></div></div></div></div></div>"
            ]
          },
          "metadata": {},
          "execution_count": 25
        }
      ]
    },
    {
      "cell_type": "code",
      "source": [
        "y_pred = svm.predict(X_test_tfidf)"
      ],
      "metadata": {
        "id": "jigAimDX7rdr"
      },
      "execution_count": null,
      "outputs": []
    },
    {
      "cell_type": "code",
      "source": [
        "print(f'Accuracy: {accuracy_score(y_test, y_pred)}')\n",
        "print(f'Classification Report:\\n{classification_report(y_test, y_pred)}')"
      ],
      "metadata": {
        "colab": {
          "base_uri": "https://localhost:8080/"
        },
        "id": "6fwdCFDz8xKD",
        "outputId": "8f140926-386a-4d53-ade7-5c28fce8eee5"
      },
      "execution_count": null,
      "outputs": [
        {
          "output_type": "stream",
          "name": "stdout",
          "text": [
            "Accuracy: 0.5832103321033211\n"
          ]
        },
        {
          "output_type": "stream",
          "name": "stderr",
          "text": [
            "/usr/local/lib/python3.10/dist-packages/sklearn/metrics/_classification.py:1344: UndefinedMetricWarning: Precision and F-score are ill-defined and being set to 0.0 in labels with no predicted samples. Use `zero_division` parameter to control this behavior.\n",
            "  _warn_prf(average, modifier, msg_start, len(result))\n",
            "/usr/local/lib/python3.10/dist-packages/sklearn/metrics/_classification.py:1344: UndefinedMetricWarning: Precision and F-score are ill-defined and being set to 0.0 in labels with no predicted samples. Use `zero_division` parameter to control this behavior.\n",
            "  _warn_prf(average, modifier, msg_start, len(result))\n"
          ]
        },
        {
          "output_type": "stream",
          "name": "stdout",
          "text": [
            "Classification Report:\n",
            "              precision    recall  f1-score   support\n",
            "\n",
            "      action       0.39      0.33      0.36       230\n",
            "       adult       0.59      0.32      0.42       111\n",
            "   adventure       0.60      0.23      0.33       150\n",
            "   animation       0.44      0.14      0.22        98\n",
            "   biography       0.00      0.00      0.00        53\n",
            "      comedy       0.51      0.60      0.55      1513\n",
            "       crime       0.30      0.06      0.11       110\n",
            " documentary       0.67      0.85      0.75      2579\n",
            "       drama       0.55      0.73      0.63      2764\n",
            "      family       0.54      0.08      0.14       167\n",
            "     fantasy       0.25      0.04      0.07        74\n",
            "   game-show       0.81      0.54      0.65        41\n",
            "     history       0.00      0.00      0.00        42\n",
            "      horror       0.62      0.52      0.57       474\n",
            "       music       0.66      0.48      0.56       154\n",
            "     musical       0.57      0.07      0.13        54\n",
            "     mystery       1.00      0.02      0.03        60\n",
            "        news       0.75      0.09      0.15        35\n",
            "  reality-tv       0.53      0.26      0.35       178\n",
            "     romance       0.00      0.00      0.00       145\n",
            "      sci-fi       0.62      0.30      0.41       139\n",
            "       short       0.51      0.34      0.41       983\n",
            "       sport       0.70      0.30      0.42        86\n",
            "   talk-show       0.60      0.20      0.30        75\n",
            "    thriller       0.23      0.10      0.14       294\n",
            "         war       0.86      0.27      0.41        22\n",
            "     western       0.88      0.76      0.82       209\n",
            "\n",
            "    accuracy                           0.58     10840\n",
            "   macro avg       0.53      0.28      0.33     10840\n",
            "weighted avg       0.56      0.58      0.55     10840\n",
            "\n"
          ]
        },
        {
          "output_type": "stream",
          "name": "stderr",
          "text": [
            "/usr/local/lib/python3.10/dist-packages/sklearn/metrics/_classification.py:1344: UndefinedMetricWarning: Precision and F-score are ill-defined and being set to 0.0 in labels with no predicted samples. Use `zero_division` parameter to control this behavior.\n",
            "  _warn_prf(average, modifier, msg_start, len(result))\n"
          ]
        }
      ]
    },
    {
      "cell_type": "code",
      "source": [
        "# Load the new test data from CSV file\n",
        "test_data_solution = pd.read_csv('/content/drive/MyDrive/archive (1)/Genre Classification Dataset/test_data_solution.txt')\n",
        "\n",
        "# Preprocess and vectorize the test data\n",
        "X_new_test_tfidf = tfidf.transform(test_data_solution['description'])"
      ],
      "metadata": {
        "id": "heYHIFIt86cy"
      },
      "execution_count": null,
      "outputs": []
    },
    {
      "cell_type": "code",
      "source": [
        "new_predictions = svm.predict(X_new_test_tfidf)\n",
        "# Add predictions to the test data\n",
        "test_data_solution['predicted_genre'] = new_predictions\n",
        "\n",
        "# Save the test data with predictions\n",
        "test_data_solution.to_csv('test_data_solution_with_predictions.csv', index=False)\n",
        "\n",
        "# Display the first few rows of the dataframe with predictions\n",
        "print(test_data_solution.head())\n",
        "\n",
        "# Evaluate the prediction score (assuming the true labels are available in the 'genre' column)\n",
        "if 'genre' in test_data_solution.columns:\n",
        "    accuracy = accuracy_score(test_data_solution['genre'], test_data_solution['predicted_genre'])\n",
        "    print(f'New Test Data Accuracy: {accuracy}')\n",
        "    print(f'New Test Data Classification Report:\\n{classification_report(test_data_solution['genre'], test_data_solution['predicted_genre'])}')\n",
        "else:\n",
        "    print(\"The 'genre' column is not available in the test data. Unable to compute prediction score.\")"
      ],
      "metadata": {
        "id": "F5YUicmpADHd"
      },
      "execution_count": null,
      "outputs": []
    }
  ]
}